{
  "nbformat": 4,
  "nbformat_minor": 0,
  "metadata": {
    "colab": {
      "provenance": [],
      "authorship_tag": "ABX9TyPYXa0cTJfUnF2wfLz34NnV",
      "include_colab_link": true
    },
    "kernelspec": {
      "name": "python3",
      "display_name": "Python 3"
    },
    "language_info": {
      "name": "python"
    }
  },
  "cells": [
    {
      "cell_type": "markdown",
      "metadata": {
        "id": "view-in-github",
        "colab_type": "text"
      },
      "source": [
        "<a href=\"https://colab.research.google.com/github/OscarAliM/Examen_1/blob/main/Examen_1_consumer_mit_lift_lab_xlsx.ipynb\" target=\"_parent\"><img src=\"https://colab.research.google.com/assets/colab-badge.svg\" alt=\"Open In Colab\"/></a>"
      ]
    },
    {
      "cell_type": "markdown",
      "source": [
        "# Examen_1_consumer_mit_lift_lab.xlsx.**ipynb**"
      ],
      "metadata": {
        "id": "YoIskin_ZDdI"
      }
    },
    {
      "cell_type": "code",
      "execution_count": 1,
      "metadata": {
        "id": "B4NKqB84Y7gT"
      },
      "outputs": [],
      "source": [
        "#Importamos las librerías pandas, numpy y matplotlib respectivamente\n",
        "import pandas as pd\n",
        "import numpy as np\n",
        "import matplotlib.pyplot as plt"
      ]
    },
    {
      "cell_type": "code",
      "source": [
        "#Cargar archivo csv desde equipo\n",
        "from google.colab import files\n",
        "files.upload()"
      ],
      "metadata": {
        "id": "-SME2qgYZG1N"
      },
      "execution_count": null,
      "outputs": []
    },
    {
      "cell_type": "code",
      "source": [
        "#Carga desde un archivo .xlsx sin indice\n",
        "Consumer= pd.read_excel(\"consumer_mit_lift_lab.xlsx\")"
      ],
      "metadata": {
        "id": "FRP2fZoMZJ_E"
      },
      "execution_count": 3,
      "outputs": []
    },
    {
      "cell_type": "code",
      "source": [
        "#Verificamos información del DataFrame\n",
        "Consumer.info()"
      ],
      "metadata": {
        "id": "9heblF-0ZLg2"
      },
      "execution_count": null,
      "outputs": []
    },
    {
      "cell_type": "code",
      "source": [
        "#Imprimir los primeros 5 registros del dataframe\n",
        "Consumer.head()"
      ],
      "metadata": {
        "id": "zjEmI9h2ZNGg"
      },
      "execution_count": null,
      "outputs": []
    },
    {
      "cell_type": "markdown",
      "source": [
        "Valores Nulos"
      ],
      "metadata": {
        "id": "xF1KvobaZN2G"
      }
    },
    {
      "cell_type": "code",
      "source": [
        "#Identificar valores nulos por columna\n",
        "valores_nulos=Consumer.isnull().sum()\n",
        "valores_nulos"
      ],
      "metadata": {
        "id": "O0DZrLqLZPL7"
      },
      "execution_count": null,
      "outputs": []
    },
    {
      "cell_type": "code",
      "source": [
        "#Realizamos una copia del dataframe\n",
        "data1=Consumer.copy()\n",
        "data1"
      ],
      "metadata": {
        "id": "KCZAriNXZTpa"
      },
      "execution_count": null,
      "outputs": []
    },
    {
      "cell_type": "code",
      "source": [
        "#Sustituir valores nulos por un string en concreto\n",
        "data1[\"300_did_not_find\"]=data1[\"300_did_not_find\"].fillna(\"insumo\")"
      ],
      "metadata": {
        "id": "rZKXA9n3ZVss"
      },
      "execution_count": 8,
      "outputs": []
    },
    {
      "cell_type": "code",
      "source": [
        "#Corroboramos valores nulos\n",
        "valores_nulos=data1.isnull().sum()\n",
        "valores_nulos"
      ],
      "metadata": {
        "id": "tEBCiqgHZXpl"
      },
      "execution_count": null,
      "outputs": []
    },
    {
      "cell_type": "code",
      "source": [
        "#Sustituir valores nulos por un string en concreto\n",
        "data1[\"284_additional_products_store\"]=data1[\"284_additional_products_store\"].fillna(\"x_producto\")"
      ],
      "metadata": {
        "id": "Yl10RkaGZZMu"
      },
      "execution_count": 10,
      "outputs": []
    },
    {
      "cell_type": "code",
      "source": [
        "#Corroboramos valores nulos\n",
        "valores_nulos=data1.isnull().sum()\n",
        "valores_nulos"
      ],
      "metadata": {
        "id": "xZqqsj9TZbMH"
      },
      "execution_count": null,
      "outputs": []
    },
    {
      "cell_type": "code",
      "source": [
        "#Sustituir valores nulos por valores no nulos hacia atrás \"backward fill\" (\"bfill\")\n",
        "data1[\"305_electricity_bill_store\"]=data1[\"305_electricity_bill_store\"].fillna(method=\"bfill\")"
      ],
      "metadata": {
        "id": "c7w7-dvPZc86"
      },
      "execution_count": 12,
      "outputs": []
    },
    {
      "cell_type": "code",
      "source": [
        "#Corroboramos valores nulos\n",
        "valores_nulos=data1.isnull().sum()\n",
        "valores_nulos"
      ],
      "metadata": {
        "id": "HIXXn1ZeZeq_"
      },
      "execution_count": null,
      "outputs": []
    },
    {
      "cell_type": "code",
      "source": [
        "#Sustituir valores nulos por valores no nulos hacia atrás \"backward fill\" (\"bfill\")\n",
        "data1[\"306_water_bill_store\"]=data1[\"306_water_bill_store\"].fillna(method=\"bfill\")"
      ],
      "metadata": {
        "id": "-nFRz0ooZgvA"
      },
      "execution_count": 14,
      "outputs": []
    },
    {
      "cell_type": "code",
      "source": [
        "#Corroboramos valores nulos\n",
        "valores_nulos=data1.isnull().sum()\n",
        "valores_nulos"
      ],
      "metadata": {
        "id": "NCwfFA5dZhOU"
      },
      "execution_count": null,
      "outputs": []
    },
    {
      "cell_type": "code",
      "source": [
        "#Sustituir valores nulos por valores no nulos hacia adelante \"forward fill\" (\"ffill\")\n",
        "data1[\"307_gas_bill_store\"]=data1[\"307_gas_bill_store\"].fillna(method=\"ffill\")"
      ],
      "metadata": {
        "id": "WACH0RTnZjeL"
      },
      "execution_count": 16,
      "outputs": []
    },
    {
      "cell_type": "code",
      "source": [
        "#Corroboramos valores nulos\n",
        "valores_nulos=data1.isnull().sum()\n",
        "valores_nulos"
      ],
      "metadata": {
        "id": "qBJl1QoOZlkm"
      },
      "execution_count": null,
      "outputs": []
    },
    {
      "cell_type": "code",
      "source": [
        "#Sustituir valores nulos por valores no nulos hacia adelante \"forward fill\" (\"ffill\")\n",
        "data1[\"308_topups_in_store\"]=data1[\"308_topups_in_store\"].fillna(method=\"ffill\")"
      ],
      "metadata": {
        "id": "wHe81uCMZnI2"
      },
      "execution_count": 18,
      "outputs": []
    },
    {
      "cell_type": "code",
      "source": [
        "#Corroboramos valores nulos\n",
        "valores_nulos=data1.isnull().sum()\n",
        "valores_nulos"
      ],
      "metadata": {
        "id": "rtViKPkYZqRu"
      },
      "execution_count": null,
      "outputs": []
    },
    {
      "cell_type": "code",
      "source": [
        "#Sustituir valores nulos por valores no nulos hacia atrás \"backward fill\" (\"bfill\")\n",
        "data1[\"309_wiretransfers_in_store\"]=data1[\"309_wiretransfers_in_store\"].fillna(method=\"bfill\")"
      ],
      "metadata": {
        "id": "VO1yVLnbZq8J"
      },
      "execution_count": 20,
      "outputs": []
    },
    {
      "cell_type": "code",
      "source": [
        "#Corroboramos valores nulos\n",
        "valores_nulos=data1.isnull().sum()\n",
        "valores_nulos"
      ],
      "metadata": {
        "id": "kdmgIP2iZtKy"
      },
      "execution_count": null,
      "outputs": []
    },
    {
      "cell_type": "code",
      "source": [
        "#Sustituir valores nulos por un string en concreto\n",
        "data1[\"304_additional_services_store\"]=data1[\"304_additional_services_store\"].fillna(\"x_servicio\")"
      ],
      "metadata": {
        "id": "TTJUYONuZvFf"
      },
      "execution_count": 22,
      "outputs": []
    },
    {
      "cell_type": "code",
      "source": [
        "#Corroboramos valores nulos\n",
        "valores_nulos=data1.isnull().sum()\n",
        "valores_nulos"
      ],
      "metadata": {
        "id": "SnS9sdIXZyM0"
      },
      "execution_count": null,
      "outputs": []
    },
    {
      "cell_type": "code",
      "source": [
        "#Sustituir valores nulos por un string en concreto\n",
        "data1[\"storefront_picture_just_once_if_possible\"]=data1[\"storefront_picture_just_once_if_possible\"].fillna(\"sin_imagen\")"
      ],
      "metadata": {
        "id": "mHFd3bR2ZyxT"
      },
      "execution_count": 24,
      "outputs": []
    },
    {
      "cell_type": "code",
      "source": [
        "#Corroboramos valores nulos\n",
        "valores_nulos=data1.isnull().sum()\n",
        "valores_nulos"
      ],
      "metadata": {
        "id": "qPBYT2InZ2g8"
      },
      "execution_count": null,
      "outputs": []
    },
    {
      "cell_type": "code",
      "source": [
        "#Corroboramos valores nulos en todo el dataframe\n",
        "valores_nulos=data1.isnull().sum().sum()\n",
        "valores_nulos"
      ],
      "metadata": {
        "id": "8O9Hcq5-Z3Bp"
      },
      "execution_count": null,
      "outputs": []
    },
    {
      "cell_type": "markdown",
      "source": [
        "Outliers"
      ],
      "metadata": {
        "id": "Nw8vHT1eZ54K"
      }
    },
    {
      "cell_type": "code",
      "source": [
        "#Realizamos diagrama de caja o bigote de cada columna del dataframe\n",
        "fig = plt.figure(figsize =(15,8))\n",
        "data1.plot(kind=\"box\", vert=False)\n",
        "plt.title(\"Valores Atípicos del Dataframe\")\n",
        "plt.show()"
      ],
      "metadata": {
        "colab": {
          "base_uri": "https://localhost:8080/",
          "height": 298
        },
        "id": "VB1lhPx0Z7Ws",
        "outputId": "37ca4228-ae74-44c3-86f8-bfdc3eac5a62"
      },
      "execution_count": 27,
      "outputs": [
        {
          "output_type": "display_data",
          "data": {
            "text/plain": [
              "<Figure size 1080x576 with 0 Axes>"
            ]
          },
          "metadata": {}
        },
        {
          "output_type": "display_data",
          "data": {
            "text/plain": [
              "<Figure size 432x288 with 1 Axes>"
            ],
            "image/png": "[encoded data removed]"
          },
          "metadata": {
            "needs_background": "light"
          }
        }
      ]
    },
    {
      "cell_type": "code",
      "source": [
        "#Método aplicando Cuartiles. Encuentro cuartiles 0.25 y 0.75\n",
        "y=data1[\"241_age_of_the_interviewee\"]\n",
        "\n",
        "percentile25=y.quantile(0.25) #Q1\n",
        "percentile75=y.quantile(0.75) #Q2\n",
        "iqr= percentile75 - percentile25\n",
        "\n",
        "Limite_Superior_iqr= percentile75 + 1.5*iqr\n",
        "Limite_Inferior_iqr= percentile25 - 1.5*iqr\n",
        "print(\"Limite superior permitido\", Limite_Superior_iqr)\n",
        "print(\"Limite inferior permitido\", Limite_Inferior_iqr)"
      ],
      "metadata": {
        "id": "fqgpdbuCZ9Yw"
      },
      "execution_count": null,
      "outputs": []
    },
    {
      "cell_type": "code",
      "source": [
        "#Encontramos Outliers\n",
        "outliers_iqr= data1[(y>Limite_Superior_iqr)|(y<Limite_Inferior_iqr)]\n",
        "outliers_iqr"
      ],
      "metadata": {
        "id": "d4AFKuXzZ_S3"
      },
      "execution_count": null,
      "outputs": []
    },
    {
      "cell_type": "code",
      "source": [
        "#Obtenemos datos limpios\n",
        "data_clean_iqr= data1[(y<=Limite_Superior_iqr)&(y>=Limite_Inferior_iqr)]\n",
        "data_clean_iqr"
      ],
      "metadata": {
        "id": "iU4ZgEheaBQF"
      },
      "execution_count": null,
      "outputs": []
    },
    {
      "cell_type": "code",
      "source": [
        "#Realizamos diagrama de caja o bigote\n",
        "fig= plt.figure(figsize =(5,3))\n",
        "plt.boxplot(data_clean_iqr[\"241_age_of_the_interviewee\"])\n",
        "plt.title(\"Outliers de Edad del entrevistado\")\n",
        "plt.show()"
      ],
      "metadata": {
        "colab": {
          "base_uri": "https://localhost:8080/",
          "height": 227
        },
        "id": "nqfgb_DkaEBx",
        "outputId": "f05ec802-81cd-4d4a-f39a-84a16ed6ca43"
      },
      "execution_count": 31,
      "outputs": [
        {
          "output_type": "display_data",
          "data": {
            "text/plain": [
              "<Figure size 360x216 with 1 Axes>"
            ],
            "image/png": "[encoded data removed]"
          },
          "metadata": {
            "needs_background": "light"
          }
        }
      ]
    },
    {
      "cell_type": "code",
      "source": [
        "#Método aplicando Cuartiles. Encuentro cuartiles 0.25 y 0.75\n",
        "y=data1[\"84_willingness_sameday_delivery\"]\n",
        "\n",
        "percentile25=y.quantile(0.25) #Q1\n",
        "percentile75=y.quantile(0.75) #Q2\n",
        "iqr= percentile75 - percentile25\n",
        "\n",
        "Limite_Superior_iqr= percentile75 + 1.5*iqr\n",
        "Limite_Inferior_iqr= percentile25 - 1.5*iqr\n",
        "print(\"Limite superior permitido\", Limite_Superior_iqr)\n",
        "print(\"Limite inferior permitido\", Limite_Inferior_iqr)"
      ],
      "metadata": {
        "id": "CxY0sEf4aErd"
      },
      "execution_count": null,
      "outputs": []
    },
    {
      "cell_type": "code",
      "source": [
        "#Encontramos Outliers\n",
        "outliers_iqr= data1[(y>Limite_Superior_iqr)|(y<Limite_Inferior_iqr)]\n",
        "outliers_iqr"
      ],
      "metadata": {
        "id": "XRDidNj0aHTb"
      },
      "execution_count": null,
      "outputs": []
    },
    {
      "cell_type": "code",
      "source": [
        "#Obtenemos datos limpios\n",
        "data_clean_iqr= data1[(y<=Limite_Superior_iqr)&(y>=Limite_Inferior_iqr)]\n",
        "data_clean_iqr"
      ],
      "metadata": {
        "id": "sTUDuwM6aJo-"
      },
      "execution_count": null,
      "outputs": []
    },
    {
      "cell_type": "code",
      "source": [
        "#Realizamos diagrama de caja o bigote\n",
        "fig= plt.figure(figsize =(5,3))\n",
        "plt.boxplot(data_clean_iqr[\"84_willingness_sameday_delivery\"])\n",
        "plt.title(\"Outliers de disponibilidad para entregar el mismo día\")\n",
        "plt.show()"
      ],
      "metadata": {
        "colab": {
          "base_uri": "https://localhost:8080/",
          "height": 227
        },
        "id": "1lJ38NmraLbL",
        "outputId": "c18da777-e956-4d6a-daeb-68a33cf11714"
      },
      "execution_count": 35,
      "outputs": [
        {
          "output_type": "display_data",
          "data": {
            "text/plain": [
              "<Figure size 360x216 with 1 Axes>"
            ],
            "image/png": "[encoded data removed]"
          },
          "metadata": {
            "needs_background": "light"
          }
        }
      ]
    },
    {
      "cell_type": "code",
      "source": [
        "#Método aplicando Cuartiles. Encuentro cuartiles 0.25 y 0.75\n",
        "y=data1[\"83_willingness_ultrafast_delivery\"]\n",
        "\n",
        "percentile25=y.quantile(0.25) #Q1\n",
        "percentile75=y.quantile(0.75) #Q2\n",
        "iqr= percentile75 - percentile25\n",
        "\n",
        "Limite_Superior_iqr= percentile75 + 1.5*iqr\n",
        "Limite_Inferior_iqr= percentile25 - 1.5*iqr\n",
        "print(\"Limite superior permitido\", Limite_Superior_iqr)\n",
        "print(\"Limite inferior permitido\", Limite_Inferior_iqr)"
      ],
      "metadata": {
        "id": "mDfp5iKiaNL7"
      },
      "execution_count": null,
      "outputs": []
    },
    {
      "cell_type": "code",
      "source": [
        "#Encontramos Outliers\n",
        "outliers_iqr= data1[(y>Limite_Superior_iqr)|(y<Limite_Inferior_iqr)]\n",
        "outliers_iqr"
      ],
      "metadata": {
        "id": "sfJvojnzaQUa"
      },
      "execution_count": null,
      "outputs": []
    },
    {
      "cell_type": "code",
      "source": [
        "#Obtenemos datos limpios\n",
        "data_clean_iqr= data1[(y<=Limite_Superior_iqr)&(y>=Limite_Inferior_iqr)]\n",
        "data_clean_iqr"
      ],
      "metadata": {
        "id": "wlmO-EbwaQ0H"
      },
      "execution_count": null,
      "outputs": []
    },
    {
      "cell_type": "code",
      "source": [
        "#Realizamos diagrama de caja o bigote\n",
        "fig= plt.figure(figsize =(5,3))\n",
        "plt.boxplot(data_clean_iqr[\"83_willingness_ultrafast_delivery\"])\n",
        "plt.title(\"Outliers de disponibilidad para entrega súper rápida\")\n",
        "plt.show()"
      ],
      "metadata": {
        "colab": {
          "base_uri": "https://localhost:8080/",
          "height": 227
        },
        "id": "a9UDYpdlaTyH",
        "outputId": "94b898ef-eec7-45f5-daa9-29bba0d9baf2"
      },
      "execution_count": 39,
      "outputs": [
        {
          "output_type": "display_data",
          "data": {
            "text/plain": [
              "<Figure size 360x216 with 1 Axes>"
            ],
            "image/png": "[encoded data removed]"
          },
          "metadata": {
            "needs_background": "light"
          }
        }
      ]
    },
    {
      "cell_type": "code",
      "source": [
        "#Método aplicando Cuartiles. Encuentro cuartiles 0.25 y 0.75\n",
        "y=data1[\"289_number_whatsapp_purchases_month\"]\n",
        "\n",
        "percentile25=y.quantile(0.25) #Q1\n",
        "percentile75=y.quantile(0.75) #Q2\n",
        "iqr= percentile75 - percentile25\n",
        "\n",
        "Limite_Superior_iqr= percentile75 + 1.5*iqr\n",
        "Limite_Inferior_iqr= percentile25 - 1.5*iqr\n",
        "print(\"Limite superior permitido\", Limite_Superior_iqr)\n",
        "print(\"Limite inferior permitido\", Limite_Inferior_iqr)"
      ],
      "metadata": {
        "id": "SbH5XjqgaXM0"
      },
      "execution_count": null,
      "outputs": []
    },
    {
      "cell_type": "code",
      "source": [
        "#Encontramos Outliers\n",
        "outliers_iqr= data1[(y>Limite_Superior_iqr)|(y<Limite_Inferior_iqr)]\n",
        "outliers_iqr"
      ],
      "metadata": {
        "id": "WJHHK4ptaZSb"
      },
      "execution_count": null,
      "outputs": []
    },
    {
      "cell_type": "code",
      "source": [
        "#Obtenemos datos limpios\n",
        "data_clean_iqr= data1[(y<=Limite_Superior_iqr)&(y>=Limite_Inferior_iqr)]\n",
        "data_clean_iqr"
      ],
      "metadata": {
        "id": "9gc2G25HaZvt"
      },
      "execution_count": null,
      "outputs": []
    },
    {
      "cell_type": "code",
      "source": [
        "#Realizamos diagrama de caja o bigote\n",
        "fig= plt.figure(figsize =(5,3))\n",
        "plt.boxplot(data_clean_iqr[\"289_number_whatsapp_purchases_month\"])\n",
        "plt.title(\"Outliers de numero de ventas por Whatsapp\")\n",
        "plt.show()"
      ],
      "metadata": {
        "colab": {
          "base_uri": "https://localhost:8080/",
          "height": 227
        },
        "id": "rWAhlkspabNl",
        "outputId": "4bbb6ab2-49a1-491e-f70c-52cd0318dece"
      },
      "execution_count": 43,
      "outputs": [
        {
          "output_type": "display_data",
          "data": {
            "text/plain": [
              "<Figure size 360x216 with 1 Axes>"
            ],
            "image/png": "[encoded data removed]"
          },
          "metadata": {
            "needs_background": "light"
          }
        }
      ]
    },
    {
      "cell_type": "code",
      "source": [
        "#Método aplicando Cuartiles. Encuentro cuartiles 0.25 y 0.75\n",
        "y=data1[\"288_number_app_purchases_month\"]\n",
        "\n",
        "percentile25=y.quantile(0.25) #Q1\n",
        "percentile75=y.quantile(0.75) #Q2\n",
        "iqr= percentile75 - percentile25\n",
        "\n",
        "Limite_Superior_iqr= percentile75 + 1.5*iqr\n",
        "Limite_Inferior_iqr= percentile25 - 1.5*iqr\n",
        "print(\"Limite superior permitido\", Limite_Superior_iqr)\n",
        "print(\"Limite inferior permitido\", Limite_Inferior_iqr)"
      ],
      "metadata": {
        "id": "C9ywcXpNadB9"
      },
      "execution_count": null,
      "outputs": []
    },
    {
      "cell_type": "code",
      "source": [
        "#Encontramos Outliers\n",
        "outliers_iqr= data1[(y>Limite_Superior_iqr)|(y<Limite_Inferior_iqr)]\n",
        "outliers_iqr"
      ],
      "metadata": {
        "id": "WbccVVgVafLy"
      },
      "execution_count": null,
      "outputs": []
    },
    {
      "cell_type": "code",
      "source": [
        "#Obtenemos datos limpios\n",
        "data_clean_iqr= data1[(y<=Limite_Superior_iqr)&(y>=Limite_Inferior_iqr)]\n",
        "data_clean_iqr"
      ],
      "metadata": {
        "id": "s3UbKMVnaiGI"
      },
      "execution_count": null,
      "outputs": []
    },
    {
      "cell_type": "code",
      "source": [
        "#Realizamos diagrama de caja o bigote\n",
        "fig= plt.figure(figsize =(5,3))\n",
        "plt.boxplot(data_clean_iqr[\"288_number_app_purchases_month\"])\n",
        "plt.title(\"Outliers de numero de ventas por aplicación\")\n",
        "plt.show()"
      ],
      "metadata": {
        "colab": {
          "base_uri": "https://localhost:8080/",
          "height": 227
        },
        "id": "ZJScjYm3ajr8",
        "outputId": "f787d208-da18-43f8-aedb-9afaee4dcae0"
      },
      "execution_count": 58,
      "outputs": [
        {
          "output_type": "display_data",
          "data": {
            "text/plain": [
              "<Figure size 360x216 with 1 Axes>"
            ],
            "image/png": "[encoded data removed]"
          },
          "metadata": {
            "needs_background": "light"
          }
        }
      ]
    },
    {
      "cell_type": "code",
      "source": [
        "#Método aplicando Cuartiles. Encuentro cuartiles 0.25 y 0.75\n",
        "y=data1[\"81_number_online_purchases_month\"]\n",
        "\n",
        "percentile25=y.quantile(0.25) #Q1\n",
        "percentile75=y.quantile(0.75) #Q2\n",
        "iqr= percentile75 - percentile25\n",
        "\n",
        "Limite_Superior_iqr= percentile75 + 1.5*iqr\n",
        "Limite_Inferior_iqr= percentile25 - 1.5*iqr\n",
        "print(\"Limite superior permitido\", Limite_Superior_iqr)\n",
        "print(\"Limite inferior permitido\", Limite_Inferior_iqr)"
      ],
      "metadata": {
        "id": "UIt2_7VUalho"
      },
      "execution_count": null,
      "outputs": []
    },
    {
      "cell_type": "code",
      "source": [
        "#Encontramos Outliers\n",
        "outliers_iqr= data1[(y>Limite_Superior_iqr)|(y<Limite_Inferior_iqr)]\n",
        "outliers_iqr"
      ],
      "metadata": {
        "id": "xcN0uA5BamHg"
      },
      "execution_count": null,
      "outputs": []
    },
    {
      "cell_type": "code",
      "source": [
        "#Obtenemos datos limpios\n",
        "data_clean_iqr= data1[(y<=Limite_Superior_iqr)&(y>=Limite_Inferior_iqr)]\n",
        "data_clean_iqr"
      ],
      "metadata": {
        "id": "lQObUtzRan84"
      },
      "execution_count": null,
      "outputs": []
    },
    {
      "cell_type": "code",
      "source": [
        "#Realizamos diagrama de caja o bigote\n",
        "fig= plt.figure(figsize =(5,3))\n",
        "plt.boxplot(data_clean_iqr[\"81_number_online_purchases_month\"])\n",
        "plt.title(\"Outliers de numero de ventas online\")\n",
        "plt.show()"
      ],
      "metadata": {
        "colab": {
          "base_uri": "https://localhost:8080/",
          "height": 227
        },
        "id": "fYh4aYvYarDr",
        "outputId": "04de9fb0-0b27-459a-ef9b-3cf722e8d38f"
      },
      "execution_count": 51,
      "outputs": [
        {
          "output_type": "display_data",
          "data": {
            "text/plain": [
              "<Figure size 360x216 with 1 Axes>"
            ],
            "image/png": "[encoded data removed]"
          },
          "metadata": {
            "needs_background": "light"
          }
        }
      ]
    },
    {
      "cell_type": "code",
      "source": [
        "#Método aplicando Cuartiles. Encuentro cuartiles 0.25 y 0.75\n",
        "y=data1[\"238_frequency_buying_store\"]\n",
        "\n",
        "percentile25=y.quantile(0.25) #Q1\n",
        "percentile75=y.quantile(0.75) #Q2\n",
        "iqr= percentile75 - percentile25\n",
        "\n",
        "Limite_Superior_iqr= percentile75 + 1.5*iqr\n",
        "Limite_Inferior_iqr= percentile25 - 1.5*iqr\n",
        "print(\"Limite superior permitido\", Limite_Superior_iqr)\n",
        "print(\"Limite inferior permitido\", Limite_Inferior_iqr)"
      ],
      "metadata": {
        "id": "8bMFWvRAarl_"
      },
      "execution_count": null,
      "outputs": []
    },
    {
      "cell_type": "code",
      "source": [
        "#Encontramos Outliers\n",
        "outliers_iqr= data1[(y>Limite_Superior_iqr)|(y<Limite_Inferior_iqr)]\n",
        "outliers_iqr"
      ],
      "metadata": {
        "id": "8Hj1CDTXatjK"
      },
      "execution_count": null,
      "outputs": []
    },
    {
      "cell_type": "code",
      "source": [
        "#Obtenemos datos limpios\n",
        "data_clean_iqr= data1[(y<=Limite_Superior_iqr)&(y>=Limite_Inferior_iqr)]\n",
        "data_clean_iqr"
      ],
      "metadata": {
        "id": "tJ8ZkqpPawSd"
      },
      "execution_count": null,
      "outputs": []
    },
    {
      "cell_type": "code",
      "source": [
        "#Realizamos diagrama de caja o bigote\n",
        "fig= plt.figure(figsize =(5,3))\n",
        "plt.boxplot(data_clean_iqr[\"238_frequency_buying_store\"])\n",
        "plt.title(\"Outliers de frecuencia de venta\")\n",
        "plt.show()"
      ],
      "metadata": {
        "colab": {
          "base_uri": "https://localhost:8080/",
          "height": 227
        },
        "id": "5HvKaXrpayQY",
        "outputId": "fc219db1-ecc2-4c8c-dbaa-34f45d30c4fa"
      },
      "execution_count": 55,
      "outputs": [
        {
          "output_type": "display_data",
          "data": {
            "text/plain": [
              "<Figure size 360x216 with 1 Axes>"
            ],
            "image/png": "[encoded data removed]"
          },
          "metadata": {
            "needs_background": "light"
          }
        }
      ]
    },
    {
      "cell_type": "code",
      "source": [
        "#Convertir DataFrame a CSV\n",
        "data1.to_csv(\"Consumer_mit_lift_lab_limpios.csv\")"
      ],
      "metadata": {
        "id": "d24s0UYjaz7l"
      },
      "execution_count": 56,
      "outputs": []
    },
    {
      "cell_type": "code",
      "source": [
        "#descargar archivo filtrado en csv\n",
        "from google.colab import files\n",
        "\n",
        "files.download(\"Consumer_mit_lift_lab_limpios.csv\")"
      ],
      "metadata": {
        "colab": {
          "base_uri": "https://localhost:8080/",
          "height": 17
        },
        "id": "PlDOBeZAa1u8",
        "outputId": "7d0f35f7-9053-4589-cb6a-dfdaefbab9a7"
      },
      "execution_count": 57,
      "outputs": [
        {
          "output_type": "display_data",
          "data": {
            "text/plain": [
              "<IPython.core.display.Javascript object>"
            ],
            "application/javascript": [
              "\n",
              "    async function download(id, filename, size) {\n",
              "      if (!google.colab.kernel.accessAllowed) {\n",
              "        return;\n",
              "      }\n",
              "      const div = document.createElement('div');\n",
              "      const label = document.createElement('label');\n",
              "      label.textContent = `Downloading \"${filename}\": `;\n",
              "      div.appendChild(label);\n",
              "      const progress = document.createElement('progress');\n",
              "      progress.max = size;\n",
              "      div.appendChild(progress);\n",
              "      document.body.appendChild(div);\n",
              "\n",
              "      const buffers = [];\n",
              "      let downloaded = 0;\n",
              "\n",
              "      const channel = await google.colab.kernel.comms.open(id);\n",
              "      // Send a message to notify the kernel that we're ready.\n",
              "      channel.send({})\n",
              "\n",
              "      for await (const message of channel.messages) {\n",
              "        // Send a message to notify the kernel that we're ready.\n",
              "        channel.send({})\n",
              "        if (message.buffers) {\n",
              "          for (const buffer of message.buffers) {\n",
              "            buffers.push(buffer);\n",
              "            downloaded += buffer.byteLength;\n",
              "            progress.value = downloaded;\n",
              "          }\n",
              "        }\n",
              "      }\n",
              "      const blob = new Blob(buffers, {type: 'application/binary'});\n",
              "      const a = document.createElement('a');\n",
              "      a.href = window.URL.createObjectURL(blob);\n",
              "      a.download = filename;\n",
              "      div.appendChild(a);\n",
              "      a.click();\n",
              "      div.remove();\n",
              "    }\n",
              "  "
            ]
          },
          "metadata": {}
        },
        {
          "output_type": "display_data",
          "data": {
            "text/plain": [
              "<IPython.core.display.Javascript object>"
            ],
            "application/javascript": [
              "download(\"download_5d701efb-a4bf-48f1-9c9d-0d10f4609c9e\", \"Consumer_mit_lift_lab_limpios.csv\", 53271)"
            ]
          },
          "metadata": {}
        }
      ]
    }
  ]
}