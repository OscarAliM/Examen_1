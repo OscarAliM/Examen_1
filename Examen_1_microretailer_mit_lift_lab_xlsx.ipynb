{
  "nbformat": 4,
  "nbformat_minor": 0,
  "metadata": {
    "colab": {
      "provenance": [],
      "authorship_tag": "ABX9TyM1aLFy+zDZfJd/NO6g1m65",
      "include_colab_link": true
    },
    "kernelspec": {
      "name": "python3",
      "display_name": "Python 3"
    },
    "language_info": {
      "name": "python"
    }
  },
  "cells": [
    {
      "cell_type": "markdown",
      "metadata": {
        "id": "view-in-github",
        "colab_type": "text"
      },
      "source": [
        "<a href=\"https://colab.research.google.com/github/OscarAliM/Examen_1/blob/main/Examen_1_microretailer_mit_lift_lab_xlsx.ipynb\" target=\"_parent\"><img src=\"https://colab.research.google.com/assets/colab-badge.svg\" alt=\"Open In Colab\"/></a>"
      ]
    },
    {
      "cell_type": "markdown",
      "source": [
        "# Examen_1_microretailer_mit_lift_lab.xlsx.**ipynb**"
      ],
      "metadata": {
        "id": "hI_O5yQOXpXZ"
      }
    },
    {
      "cell_type": "code",
      "execution_count": 1,
      "metadata": {
        "id": "SZpaoc-bXbMB"
      },
      "outputs": [],
      "source": [
        "#Importamos las librerías pandas, numpy y matplotlib respectivamente\n",
        "import pandas as pd\n",
        "import numpy as np\n",
        "import matplotlib.pyplot as plt"
      ]
    },
    {
      "cell_type": "code",
      "source": [
        "#Cargar archivo csv desde equipo\n",
        "from google.colab import files\n",
        "files.upload()"
      ],
      "metadata": {
        "id": "Fycc2vUsYCi-"
      },
      "execution_count": null,
      "outputs": []
    },
    {
      "cell_type": "code",
      "source": [
        "#Carga desde un archivo .xlsx sin indice\n",
        "Micro_Retailer= pd.read_excel(\"microretailer_mit_lift_lab.xlsx\")"
      ],
      "metadata": {
        "id": "8esMGNHxYGtm"
      },
      "execution_count": 3,
      "outputs": []
    },
    {
      "cell_type": "code",
      "source": [
        "#Verificamos información del DataFrame\n",
        "Micro_Retailer.info()"
      ],
      "metadata": {
        "id": "7gWNmVNJYHfq"
      },
      "execution_count": null,
      "outputs": []
    },
    {
      "cell_type": "code",
      "source": [
        "#Se imprimen los primeros 5 registros del dataframe\n",
        "Micro_Retailer.head()"
      ],
      "metadata": {
        "id": "6t6AchriYKam"
      },
      "execution_count": null,
      "outputs": []
    },
    {
      "cell_type": "markdown",
      "source": [
        "Valores Nulos"
      ],
      "metadata": {
        "id": "wSdDf7hFYLC8"
      }
    },
    {
      "cell_type": "code",
      "source": [
        "#Identificar valores nulos por columna\n",
        "valores_nulos=Micro_Retailer.isnull().sum()\n",
        "valores_nulos"
      ],
      "metadata": {
        "id": "Tle2bmpRYQa8"
      },
      "execution_count": null,
      "outputs": []
    },
    {
      "cell_type": "code",
      "source": [
        "#Realizamos una copia del dataframe\n",
        "data1=Micro_Retailer.copy()\n",
        "data1"
      ],
      "metadata": {
        "id": "62Y0tHS6YSPW"
      },
      "execution_count": null,
      "outputs": []
    },
    {
      "cell_type": "code",
      "source": [
        "#Al ser una gran cantidad de datos reemplazemos los valores nulos con \"bfill\"\n",
        "data2=data1.fillna(method='bfill')\n",
        "data2"
      ],
      "metadata": {
        "id": "tdLNNnarYVc6"
      },
      "execution_count": null,
      "outputs": []
    },
    {
      "cell_type": "code",
      "source": [
        "#verificamos nuestros valores nulos\n",
        "valores_nulos=data2.isnull().sum()\n",
        "valores_nulos"
      ],
      "metadata": {
        "id": "rmpT5m4sYWJN"
      },
      "execution_count": null,
      "outputs": []
    },
    {
      "cell_type": "code",
      "source": [
        "#realizamos ahora un filtro por columnas de las que son de tipo cuantitativas\n",
        "datoscuantitativos=data2.iloc[ : , [5,6,13,14,16,21,22,31,42,49,51,59,29,33,78,90]]\n",
        "datoscuantitativos"
      ],
      "metadata": {
        "id": "DFBdbNIxYXyt"
      },
      "execution_count": null,
      "outputs": []
    },
    {
      "cell_type": "code",
      "source": [
        "#corroboramos valores nulos\n",
        "valores_nulos=datoscuantitativos.isnull().sum()\n",
        "valores_nulos"
      ],
      "metadata": {
        "id": "z3Q09O5kYa2C"
      },
      "execution_count": null,
      "outputs": []
    },
    {
      "cell_type": "code",
      "source": [
        "#reemplazamos valores nulos del dataframe con mean\n",
        "#realizamos una copia del dataframe\n",
        "data3=datoscuantitativos.copy()\n",
        "data3=data3.fillna(round(data3.mean(),1))\n",
        "data3"
      ],
      "metadata": {
        "id": "dG6QtPExYdPM"
      },
      "execution_count": null,
      "outputs": []
    },
    {
      "cell_type": "code",
      "source": [
        "#corroboramos valores nulos y ahora ya no tendremos\n",
        "valores_nulos=data3.isnull().sum()\n",
        "valores_nulos"
      ],
      "metadata": {
        "id": "lfbAQfOVYdrx"
      },
      "execution_count": null,
      "outputs": []
    },
    {
      "cell_type": "markdown",
      "source": [
        "Outliers"
      ],
      "metadata": {
        "id": "5uIVksb5YhlY"
      }
    },
    {
      "cell_type": "code",
      "source": [
        "#Hacemos uso de desviacion estandar \n",
        "y=data3\n",
        "Limite_superior=y.mean()+3*y.std()\n",
        "Limite_inferior=y.mean()-3*y.std()\n",
        "print('Limite superior permitido',Limite_superior)\n",
        "print('Limite inferior permitido',Limite_inferior)"
      ],
      "metadata": {
        "id": "yynGEjySYgLw"
      },
      "execution_count": null,
      "outputs": []
    },
    {
      "cell_type": "code",
      "source": [
        "#encontramos outliers del dataframe\n",
        "outliers=data3[(y>Limite_superior)|(y<Limite_inferior)]\n",
        "outliers"
      ],
      "metadata": {
        "id": "0iurq238YlTC"
      },
      "execution_count": null,
      "outputs": []
    },
    {
      "cell_type": "code",
      "source": [
        "#obtenemos datos sin outliers\n",
        "data4=data3[(y<=Limite_superior)&(y>=Limite_inferior)]\n",
        "data4"
      ],
      "metadata": {
        "id": "HTCu9qvcYm8l"
      },
      "execution_count": null,
      "outputs": []
    },
    {
      "cell_type": "code",
      "source": [
        "#corroboramos valores nulos\n",
        "valores_nulos=data4.isnull().sum()\n",
        "valores_nulos"
      ],
      "metadata": {
        "id": "VywxoL4xYpJQ"
      },
      "execution_count": null,
      "outputs": []
    },
    {
      "cell_type": "code",
      "source": [
        "#Reemplazamos valores atipicos del data frame con mean\n",
        "data5=data4.copy()\n",
        "data5=data5.fillna(round(data4.mean(),1))\n",
        "data5"
      ],
      "metadata": {
        "id": "__w3Pz3DYq6w"
      },
      "execution_count": null,
      "outputs": []
    },
    {
      "cell_type": "code",
      "source": [
        "#Realizamos ahora un filtro por columnas de tipo cualitativo\n",
        "datoscualitativos=data2.iloc[ : , [0,1,2,3,4,7,8,9,10,11,12,15,17,18,19,20,23,24,25,26,27,28,30,32,34,35,36,37,38,39,40,41,43,44,45,46,47,48,50,52,53,54,55,56,57,58,59,60,61,62,63,64,65,66,67,68,69,70,71,72,73,74,75,76,77,79,80,81,82,83,84,85,86,87,88,89,91,92,93,94,95,96,97,98,99,100,101,102,103,104]]\n",
        "datoscualitativos"
      ],
      "metadata": {
        "id": "CKDvaqDUYuzX"
      },
      "execution_count": null,
      "outputs": []
    },
    {
      "cell_type": "code",
      "source": [
        "#Unimos las columnas de cualitativas y cuantitativas\n",
        "Datos_limpios= pd.concat([datoscualitativos,data5], axis=1)\n",
        "Datos_limpios"
      ],
      "metadata": {
        "id": "XTGWVg3xYxSl"
      },
      "execution_count": null,
      "outputs": []
    },
    {
      "cell_type": "code",
      "source": [
        "#Corroboramos valores nulos\n",
        "valores_nulos=Datos_limpios.isnull().sum()\n",
        "valores_nulos"
      ],
      "metadata": {
        "id": "jNqCCKVRY0hG"
      },
      "execution_count": null,
      "outputs": []
    },
    {
      "cell_type": "code",
      "source": [
        "#Convertir dataframe a excel\n",
        "Datos_limpios.to_excel(\"microretailer_mit_lift_lab_limpios.xlsx\")"
      ],
      "metadata": {
        "id": "u39_z4dXY29p"
      },
      "execution_count": 22,
      "outputs": []
    },
    {
      "cell_type": "code",
      "source": [
        "#Descargar archivo filtrado en xlsx\n",
        "from google.colab import files\n",
        "\n",
        "files.download(\"microretailer_mit_lift_lab_limpios.xlsx\")"
      ],
      "metadata": {
        "colab": {
          "base_uri": "https://localhost:8080/",
          "height": 17
        },
        "id": "KyM_b-khY5IM",
        "outputId": "e12de891-22af-41ba-ace5-953b52baf3dd"
      },
      "execution_count": 23,
      "outputs": [
        {
          "output_type": "display_data",
          "data": {
            "text/plain": [
              "<IPython.core.display.Javascript object>"
            ],
            "application/javascript": [
              "\n",
              "    async function download(id, filename, size) {\n",
              "      if (!google.colab.kernel.accessAllowed) {\n",
              "        return;\n",
              "      }\n",
              "      const div = document.createElement('div');\n",
              "      const label = document.createElement('label');\n",
              "      label.textContent = `Downloading \"${filename}\": `;\n",
              "      div.appendChild(label);\n",
              "      const progress = document.createElement('progress');\n",
              "      progress.max = size;\n",
              "      div.appendChild(progress);\n",
              "      document.body.appendChild(div);\n",
              "\n",
              "      const buffers = [];\n",
              "      let downloaded = 0;\n",
              "\n",
              "      const channel = await google.colab.kernel.comms.open(id);\n",
              "      // Send a message to notify the kernel that we're ready.\n",
              "      channel.send({})\n",
              "\n",
              "      for await (const message of channel.messages) {\n",
              "        // Send a message to notify the kernel that we're ready.\n",
              "        channel.send({})\n",
              "        if (message.buffers) {\n",
              "          for (const buffer of message.buffers) {\n",
              "            buffers.push(buffer);\n",
              "            downloaded += buffer.byteLength;\n",
              "            progress.value = downloaded;\n",
              "          }\n",
              "        }\n",
              "      }\n",
              "      const blob = new Blob(buffers, {type: 'application/binary'});\n",
              "      const a = document.createElement('a');\n",
              "      a.href = window.URL.createObjectURL(blob);\n",
              "      a.download = filename;\n",
              "      div.appendChild(a);\n",
              "      a.click();\n",
              "      div.remove();\n",
              "    }\n",
              "  "
            ]
          },
          "metadata": {}
        },
        {
          "output_type": "display_data",
          "data": {
            "text/plain": [
              "<IPython.core.display.Javascript object>"
            ],
            "application/javascript": [
              "download(\"download_044a376b-cc5d-4840-8f22-f395cf903e23\", \"microretailer_mit_lift_lab_limpios.xlsx\", 103647)"
            ]
          },
          "metadata": {}
        }
      ]
    }
  ]
}